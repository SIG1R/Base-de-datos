{
 "cells": [
  {
   "attachments": {},
   "cell_type": "markdown",
   "id": "52192159-0447-41e6-a233-2a12cd17fabe",
   "metadata": {},
   "source": [
    "# Cosas que considero necesarias antes de correr el cuaderno\n",
    "Aclaro que no uso windows ni tampoco me gusta ese sistema operativo, por ende, puede que los pasos a seguir sean diferentes en sus computadoras, tal vez les corra todo bien a la primera, tal vez no. Lo que si es seguro es que la forma de instalar los requerimientos son re diferentes a como yo lo hice, por eso les dejo las páginas oficiales para que miren como se descarga cada requisito en unas máquinas.\n",
    "\n",
    "En mi caso necesité instalar un driver llamado [ODBC](https://learn.microsoft.com/en-us/sql/connect/odbc/download-odbc-driver-for-sql-server?view=sql-server-ver16), esa vaina es propia de Microsoft, hay una línea del código `driver = '{ODBC Driver 18 for SQL Server}'`\n",
    "que establece la versión del driver a usar como la 18 (la que yo usé), sí descargan una versión diferente asegúrense de cambiar el número de la versión al que descargaron.\n",
    "\n",
    "También descargué la librería de python [pyodbc](https://pypi.org/project/pyodbc/), de este no hablaré gran cosa.\n",
    "\n",
    "\n",
    "Y pues eso fue lo que necesité, otra cosa a aclarar es que el SQL-server lo tengo montado en una nube de azure, no tengo idea si es lo que el profe pedía o tenía que ser una conexión una base de datos alojada en sus propias computadoras. Adicional a eso, considero que hay algunos comandos de consulta que cambian un poco, por ejemplo:\n",
    "\n",
    "```SQL\n",
    "SHOW DATABASES; \n",
    "```\n",
    "\n",
    "El código anterior funciona bien en MySQL y MariaDB pero es inútil en SQL-server, o al menos eso parece. La capacidad que le asigné a la base de datos fue de 2GB, así que este [PDF](https://books.goalkicker.com/MicrosoftSQLServerBook/MicrosoftSQLServerNotesForProfessionals.pdf) contiene de manera (a mi parecer) detallada sobre como ejecutar comandos SQL-server, si gustan monten datos en la DB para comprobar que todo funcione bien.\n",
    "\n",
    "Y pos ya."
   ]
  },
  {
   "cell_type": "markdown",
   "id": "6f959dbc-a975-491e-bc3d-4979d1ec6075",
   "metadata": {},
   "source": [
    "# Importar la librería"
   ]
  },
  {
   "cell_type": "code",
   "execution_count": 1,
   "id": "9b455a01-42ad-4075-873e-f18866500602",
   "metadata": {},
   "outputs": [],
   "source": [
    "import pyodbc"
   ]
  },
  {
   "cell_type": "markdown",
   "id": "e8e373cc-db29-43ba-ae1a-35a34da1f9fc",
   "metadata": {},
   "source": [
    "# Establecer datos de conexión al servidor de SQL"
   ]
  },
  {
   "cell_type": "code",
   "execution_count": 2,
   "id": "777c8a37-5da4-4ec5-9113-73725c6ff5a9",
   "metadata": {},
   "outputs": [],
   "source": [
    "server = 'databaseuec.database.windows.net'\n",
    "database = 'datalab3'\n",
    "username = 'userroot'\n",
    "password = 'passwordlab01#'\n",
    "driver = '{ODBC Driver 18 for SQL Server}'"
   ]
  },
  {
   "cell_type": "markdown",
   "id": "0ac329a9-4e4c-498b-9acd-b3bb3bf64536",
   "metadata": {},
   "source": [
    "# Establecer la conexión"
   ]
  },
  {
   "cell_type": "code",
   "execution_count": 3,
   "id": "2b1768e4-7de1-49dc-968e-3b8ac2d084f2",
   "metadata": {},
   "outputs": [],
   "source": [
    "connection = pyodbc.connect('DRIVER='+driver+';SERVER='+server+';PORT=1433;DATABASE='+database+';UID='+username+';PWD='+ password)\n",
    "cursor = connection.cursor()"
   ]
  },
  {
   "cell_type": "markdown",
   "id": "1d7b9315-71d8-4aeb-a99f-4075a079a4e8",
   "metadata": {},
   "source": [
    "# Crear consultas a la base de datos\n",
    "Comandos de consulta como `commit` ya sabemos que hacen, así que no voy a explicar eso.\n",
    "\n",
    "De manera personal considero que se ve más ordernado crear una variable que almacene el script de la consulta, en vez de darsela como argumento directamente a la función `cursor.execute()`, esta función ejecuta la consulta a la DB remota.\n",
    "\n",
    "La función `cursor.fetchall()` literalmente es \"recuperar todo\" o \"buscar todo\", el punto es que al momento de ejecutar consultas `SELECT` lo que uno desea es capturar la información almacenada en la tabla, esa captura de información es la que recibe el método `fetchall` e interpreta cada registro como una tupla, cada tupla es almacenada en una sola lista."
   ]
  },
  {
   "cell_type": "code",
   "execution_count": 4,
   "id": "4881f09d-b307-4f3f-b214-935174f05a15",
   "metadata": {},
   "outputs": [],
   "source": [
    "# Crear una tabla\n",
    "consulta = \"\"\"\n",
    "CREATE TABLE estudiantes (\n",
    "    id INT PRIMARY KEY IDENTITY(1,1),\n",
    "    nombre NVARCHAR(255) NOT NULL,\n",
    "    edad INT NOT NULL,\n",
    "    instrumento NVARCHAR(255) NOT NULL,\n",
    "    año_inscripcion INT NOT NULL\n",
    ");\"\"\"\n",
    "\n",
    "cursor.execute(consulta)\n",
    "connection.commit()"
   ]
  },
  {
   "cell_type": "code",
   "execution_count": 5,
   "id": "9a0a7755-9a9f-4fa3-85b8-7c39d36263e1",
   "metadata": {},
   "outputs": [],
   "source": [
    "# Datos a insertar en la tabla\n",
    "nombre = 'sebastian'\n",
    "edad = 19\n",
    "instrumento = 'batería'\n",
    "año = 2023\n",
    "\n",
    "# Crear ¿script?\n",
    "consulta = f\"\"\"\n",
    "INSERT INTO estudiantes (nombre, edad, instrumento, año_inscripcion)\n",
    "VALUES (N'{nombre}', {edad}, N'{instrumento}', {año});\n",
    "\"\"\"\n",
    "\n",
    "# Ejecutar consulta\n",
    "cursor.execute(consulta)\n",
    "connection.commit()"
   ]
  },
  {
   "cell_type": "code",
   "execution_count": 6,
   "id": "ab7a92e9-5094-41ad-956f-a58ffce6767b",
   "metadata": {},
   "outputs": [
    {
     "name": "stdout",
     "output_type": "stream",
     "text": [
      "[(1, 'sebastian', 19, 'batería', 2023)]\n"
     ]
    }
   ],
   "source": [
    "consulta = \"SELECT * FROM estudiantes;\"\n",
    "cursor.execute(consulta)\n",
    "data = cursor.fetchall() \n",
    "\n",
    "for i in data: print(data)"
   ]
  },
  {
   "cell_type": "code",
   "execution_count": 7,
   "id": "d3036cae-7684-4269-ba91-bf96a9011f9b",
   "metadata": {},
   "outputs": [],
   "source": [
    "consulta = \"DROP TABLE estudiantes;\"\n",
    "cursor.execute(consulta)\n",
    "connection.commit()"
   ]
  },
  {
   "cell_type": "code",
   "execution_count": null,
   "id": "a54f59e4-7281-4186-9267-0b53a9e03b35",
   "metadata": {},
   "outputs": [],
   "source": []
  }
 ],
 "metadata": {
  "kernelspec": {
   "display_name": "Python 3 (ipykernel)",
   "language": "python",
   "name": "python3"
  },
  "language_info": {
   "codemirror_mode": {
    "name": "ipython",
    "version": 3
   },
   "file_extension": ".py",
   "mimetype": "text/x-python",
   "name": "python",
   "nbconvert_exporter": "python",
   "pygments_lexer": "ipython3",
   "version": "3.11.5"
  }
 },
 "nbformat": 4,
 "nbformat_minor": 5
}
